{
 "cells": [
  {
   "cell_type": "markdown",
   "metadata": {},
   "source": [
    "# Naive Baseline"
   ]
  },
  {
   "cell_type": "markdown",
   "metadata": {},
   "source": [
    "This short notebook is used to obtain a naive baseline for each pitcher considered in this study."
   ]
  },
  {
   "cell_type": "code",
   "execution_count": 1,
   "metadata": {},
   "outputs": [],
   "source": [
    "import os\n",
    "os.chdir('..')"
   ]
  },
  {
   "cell_type": "code",
   "execution_count": 8,
   "metadata": {},
   "outputs": [
    {
     "name": "stdout",
     "output_type": "stream",
     "text": [
      "Pitcher: wade_miley\n",
      "Most common pitch type: FC (Frequency: 2321, Relative Frequency: 45.08%)\n",
      "Most common vertical location: 2 (Frequency: 3112, Relative Frequency: 60.44%)\n",
      "Most common horizontal location: 0 (Frequency: 2651, Relative Frequency: 51.49%)\n",
      "Pitch arsenal: ['FF' 'FC' 'CH' 'CU' 'SI' 'SL' 'CS']\n",
      "\n",
      "Pitcher: blake_snell\n",
      "Most common pitch type: FF (Frequency: 4896, Relative Frequency: 50.85%)\n",
      "Most common vertical location: 2 (Frequency: 5086, Relative Frequency: 52.82%)\n",
      "Most common horizontal location: 0 (Frequency: 4272, Relative Frequency: 44.37%)\n",
      "Pitch arsenal: ['CU' 'CH' 'FF' 'SL']\n",
      "\n",
      "Pitcher: corbin_burnes\n",
      "Most common pitch type: FC (Frequency: 6224, Relative Frequency: 52.11%)\n",
      "Most common vertical location: 2 (Frequency: 7769, Relative Frequency: 65.05%)\n",
      "Most common horizontal location: 2 (Frequency: 5634, Relative Frequency: 47.17%)\n",
      "Pitch arsenal: ['FC' 'SL' 'SI' 'CU' 'CH' 'FF' 'ST' 'PO']\n",
      "\n",
      "Pitcher: dylan_cease\n",
      "Most common pitch type: FF (Frequency: 5422, Relative Frequency: 43.28%)\n",
      "Most common vertical location: 2 (Frequency: 5925, Relative Frequency: 47.30%)\n",
      "Most common horizontal location: 2 (Frequency: 7118, Relative Frequency: 56.82%)\n",
      "Pitch arsenal: ['SL' 'FF' 'CH' 'KC' 'ST' 'SI' 'FC']\n",
      "\n",
      "Pitcher: gerrit_cole\n",
      "Most common pitch type: FF (Frequency: 5534, Relative Frequency: 50.05%)\n",
      "Most common vertical location: 2 (Frequency: 5034, Relative Frequency: 45.52%)\n",
      "Most common horizontal location: 2 (Frequency: 5221, Relative Frequency: 47.21%)\n",
      "Pitch arsenal: ['FF' 'KC' 'CH' 'SL' 'SI' 'FC']\n",
      "\n"
     ]
    }
   ],
   "source": [
    "from utils import preprocessing\n",
    "\n",
    "pitchers = ['wade_miley', 'blake_snell', 'corbin_burnes', 'dylan_cease', 'gerrit_cole']\n",
    "\n",
    "for pitcher in pitchers:\n",
    "    df = preprocessing.preprocess_data(os.path.join('data', 'raw', f'{pitcher}.csv'))\n",
    "    \n",
    "    most_common_pitch_type = df['pitch_type'].mode()[0]\n",
    "    most_common_pitch_type_freq = df['pitch_type'].value_counts().iloc[0]\n",
    "    most_common_pitch_type_rel_freq = most_common_pitch_type_freq / len(df) * 100\n",
    "    \n",
    "    most_common_vertical_location = df['vertical_location'].mode()[0]\n",
    "    most_common_vertical_location_freq = df['vertical_location'].value_counts().iloc[0]\n",
    "    most_common_vertical_location_rel_freq = most_common_vertical_location_freq / len(df) * 100\n",
    "    \n",
    "    most_common_horizontal_location = df['horizontal_location'].mode()[0]\n",
    "    most_common_horizontal_location_freq = df['horizontal_location'].value_counts().iloc[0]\n",
    "    most_common_horizontal_location_rel_freq = most_common_horizontal_location_freq / len(df) * 100\n",
    "    \n",
    "    pitch_arsenal = df['pitch_type'].unique()\n",
    "    \n",
    "    print(f'Pitcher: {pitcher}')\n",
    "    print(f'Most common pitch type: {most_common_pitch_type} (Frequency: {most_common_pitch_type_freq}, Relative Frequency: {most_common_pitch_type_rel_freq:.2f}%)')\n",
    "    print(f'Most common vertical location: {most_common_vertical_location} (Frequency: {most_common_vertical_location_freq}, Relative Frequency: {most_common_vertical_location_rel_freq:.2f}%)')\n",
    "    print(f'Most common horizontal location: {most_common_horizontal_location} (Frequency: {most_common_horizontal_location_freq}, Relative Frequency: {most_common_horizontal_location_rel_freq:.2f}%)')\n",
    "    print(f'Pitch arsenal: {pitch_arsenal}')\n",
    "    print()"
   ]
  }
 ],
 "metadata": {
  "kernelspec": {
   "display_name": "base",
   "language": "python",
   "name": "python3"
  },
  "language_info": {
   "codemirror_mode": {
    "name": "ipython",
    "version": 3
   },
   "file_extension": ".py",
   "mimetype": "text/x-python",
   "name": "python",
   "nbconvert_exporter": "python",
   "pygments_lexer": "ipython3",
   "version": "3.11.7"
  }
 },
 "nbformat": 4,
 "nbformat_minor": 2
}
