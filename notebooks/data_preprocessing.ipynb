{
 "cells": [
  {
   "cell_type": "markdown",
   "metadata": {},
   "source": [
    "## Data Preprocessing\n",
    "\n",
    "Data was gathered from the Statcast database"
   ]
  },
  {
   "cell_type": "code",
   "execution_count": 1,
   "metadata": {},
   "outputs": [],
   "source": [
    "import pandas as pd\n",
    "import os\n",
    "\n",
    "os.chdir('..')"
   ]
  },
  {
   "cell_type": "markdown",
   "metadata": {},
   "source": [
    "The dataset is then filtered to only include regular-season games and the 13 pitch types used in the study."
   ]
  },
  {
   "cell_type": "code",
   "execution_count": 2,
   "metadata": {},
   "outputs": [],
   "source": [
    "data = pd.read_csv(os.path.join('data', 'raw', 'wade_miley_15-21.csv'))\n",
    "\n",
    "# Define acceptable pitch types\n",
    "valid_pitch_dict = {\n",
    "    'FF': 'Four-Seam Fastball', 'FT': 'Two-Seam Fastball',\n",
    "    'CH': 'Change-up', 'CU': 'Curveball',\n",
    "    'FC': 'Cutter', 'EP': 'Eephus',\n",
    "    'FO': 'Forkball', 'KC': 'Knuckle Curve',\n",
    "    'KN': 'Knuckleball', 'SC': 'Screwball',\n",
    "    'SI': 'Sinker', 'SL': 'Slider',\n",
    "    'FS': 'Splitter',\n",
    "}\n",
    "\n",
    "filtered_pitches_pitch_type = data[\n",
    "    data['pitch_type'].str.contains(\n",
    "        '|'.join(list(valid_pitch_dict.keys())), na=False)\n",
    "]\n",
    "\n",
    "# Consider only regular season\n",
    "filtered_pitches_game_type = filtered_pitches_pitch_type[filtered_pitches_pitch_type['game_type'] == 'R']"
   ]
  },
  {
   "cell_type": "markdown",
   "metadata": {},
   "source": [
    "Now, we will store the repertoire of the pitcher for future reference"
   ]
  },
  {
   "cell_type": "code",
   "execution_count": 3,
   "metadata": {},
   "outputs": [],
   "source": [
    "repertoire_abb = filtered_pitches_game_type['pitch_type'].unique()\n",
    "repertoire_full = filtered_pitches_game_type['pitch_name'].unique()"
   ]
  },
  {
   "cell_type": "markdown",
   "metadata": {},
   "source": [
    "By calculating a pitcher’s most common pitch and the frequency with which he throws it, I create a baseline for judging model performance. In Miley’s case, the model needs to outperform the 27% accuracy you would get from guessing four-seam fastball every time."
   ]
  },
  {
   "cell_type": "code",
   "execution_count": 4,
   "metadata": {},
   "outputs": [
    {
     "name": "stdout",
     "output_type": "stream",
     "text": [
      "Wade Miley throws Four-Seam Fastball 27% of the time\n"
     ]
    }
   ],
   "source": [
    "top_pitch = filtered_pitches_game_type['pitch_type'].value_counts().head(1)\n",
    "top_pitch_name = valid_pitch_dict[top_pitch.index[0]]\n",
    "top_pitch_freq = int((top_pitch.values[0] / len(filtered_pitches_game_type)) * 100)\n",
    "print(f'Wade Miley throws {top_pitch_name} {top_pitch_freq}% of the time')"
   ]
  },
  {
   "cell_type": "markdown",
   "metadata": {},
   "source": [
    "## Feature Engineering\n",
    "This paper uses the following 8 features:"
   ]
  },
  {
   "cell_type": "markdown",
   "metadata": {},
   "source": [
    "Before engineering these features, I created a new ID column to group pitches by unique at-bat. This will be used to divide the data into chronological sequences for the LSTM model."
   ]
  },
  {
   "cell_type": "code",
   "execution_count": 5,
   "metadata": {},
   "outputs": [],
   "source": [
    "data.loc[:,'plate_app_id'] =  data['game_pk'].astype(str) + data['batter'].astype(str) + data['at_bat_number'].astype(str)"
   ]
  },
  {
   "cell_type": "markdown",
   "metadata": {},
   "source": [
    "With pitch count, inning, ball count, and outs already in the data, I engineered the rest of the features with custom functions and simple pandas operations."
   ]
  },
  {
   "cell_type": "code",
   "execution_count": 6,
   "metadata": {},
   "outputs": [],
   "source": [
    "data = data.sort_values(['game_date',\n",
    "                         'game_pk', # Handle double headers\n",
    "                         'plate_app_id',\n",
    "                         'pitch_number'], ascending=True)"
   ]
  },
  {
   "cell_type": "code",
   "execution_count": 7,
   "metadata": {},
   "outputs": [],
   "source": [
    "def score_diff(row):\n",
    "    if row['inning_topbot'] == 'Top':\n",
    "        return row['home_score'] - row['away_score']\n",
    "    else:\n",
    "        return row['away_score'] - row['home_score']"
   ]
  },
  {
   "cell_type": "code",
   "execution_count": 8,
   "metadata": {},
   "outputs": [],
   "source": [
    "# Create previous pitch column\n",
    "data.loc[:,'previous_pitch'] = data['pitch_type'].shift(1)\n",
    "data.loc[data['pitch_number'] == 1, 'previous_pitch'] = None\n",
    "\n",
    "# Create previous zone column\n",
    "data.loc[:,'previous_zone'] = data['zone'].shift(1)\n",
    "data.loc[data['pitch_number'] == 1, 'previous_zone'] = None\n",
    "\n",
    "# Encode runners on base\n",
    "on_base_cols = ['on_3b', 'on_2b', 'on_1b']\n",
    "for col in on_base_cols:\n",
    "  data.loc[:,col] = data[col].fillna(0).astype(int)\n",
    "  data.loc[data[col] != 0, col] = 1\n",
    "\n",
    "# Create score difference\n",
    "data.loc[:,'score_diff'] = data.apply(score_diff, axis=1)\n",
    "\n",
    "selected_features = [\n",
    "    'plate_app_id',\n",
    "    'previous_pitch',\n",
    "    'previous_zone',\n",
    "    'pitch_number',\n",
    "    'inning',\n",
    "    'on_3b', 'on_2b', 'on_1b',\n",
    "    'score_diff',\n",
    "    'balls',\n",
    "    'outs_when_up',\n",
    "    'pitch_type'\n",
    "]\n",
    "selected_cols = data[selected_features]"
   ]
  },
  {
   "cell_type": "markdown",
   "metadata": {},
   "source": [
    "Categorical features were then one-hot encoded. Since the paper did not mention scaling or standardizing the continuous columns, I did not do so. This may not make much of a difference as pitch count is the only continuous feature without an upper limit written into the rules of baseball and at-bats are usually about 5 pitches long."
   ]
  },
  {
   "cell_type": "code",
   "execution_count": 9,
   "metadata": {},
   "outputs": [
    {
     "data": {
      "text/html": [
       "<div>\n",
       "<style scoped>\n",
       "    .dataframe tbody tr th:only-of-type {\n",
       "        vertical-align: middle;\n",
       "    }\n",
       "\n",
       "    .dataframe tbody tr th {\n",
       "        vertical-align: top;\n",
       "    }\n",
       "\n",
       "    .dataframe thead th {\n",
       "        text-align: right;\n",
       "    }\n",
       "</style>\n",
       "<table border=\"1\" class=\"dataframe\">\n",
       "  <thead>\n",
       "    <tr style=\"text-align: right;\">\n",
       "      <th></th>\n",
       "      <th>plate_app_id</th>\n",
       "      <th>pitch_number</th>\n",
       "      <th>on_3b</th>\n",
       "      <th>on_2b</th>\n",
       "      <th>on_1b</th>\n",
       "      <th>score_diff</th>\n",
       "      <th>balls</th>\n",
       "      <th>outs_when_up</th>\n",
       "      <th>previous_zone_1.0</th>\n",
       "      <th>previous_zone_2.0</th>\n",
       "      <th>...</th>\n",
       "      <th>inning_8</th>\n",
       "      <th>inning_9</th>\n",
       "      <th>pitch_type_CH</th>\n",
       "      <th>pitch_type_CS</th>\n",
       "      <th>pitch_type_CU</th>\n",
       "      <th>pitch_type_FC</th>\n",
       "      <th>pitch_type_FF</th>\n",
       "      <th>pitch_type_IN</th>\n",
       "      <th>pitch_type_SI</th>\n",
       "      <th>pitch_type_SL</th>\n",
       "    </tr>\n",
       "  </thead>\n",
       "  <tbody>\n",
       "    <tr>\n",
       "      <th>10784</th>\n",
       "      <td>41369612134729</td>\n",
       "      <td>1</td>\n",
       "      <td>0.0</td>\n",
       "      <td>1.0</td>\n",
       "      <td>0.0</td>\n",
       "      <td>1</td>\n",
       "      <td>0</td>\n",
       "      <td>1</td>\n",
       "      <td>0</td>\n",
       "      <td>0</td>\n",
       "      <td>...</td>\n",
       "      <td>0</td>\n",
       "      <td>0</td>\n",
       "      <td>0</td>\n",
       "      <td>0</td>\n",
       "      <td>0</td>\n",
       "      <td>0</td>\n",
       "      <td>1</td>\n",
       "      <td>0</td>\n",
       "      <td>0</td>\n",
       "      <td>0</td>\n",
       "    </tr>\n",
       "    <tr>\n",
       "      <th>10783</th>\n",
       "      <td>41369612134729</td>\n",
       "      <td>2</td>\n",
       "      <td>0.0</td>\n",
       "      <td>1.0</td>\n",
       "      <td>0.0</td>\n",
       "      <td>1</td>\n",
       "      <td>0</td>\n",
       "      <td>1</td>\n",
       "      <td>0</td>\n",
       "      <td>0</td>\n",
       "      <td>...</td>\n",
       "      <td>0</td>\n",
       "      <td>0</td>\n",
       "      <td>0</td>\n",
       "      <td>0</td>\n",
       "      <td>0</td>\n",
       "      <td>0</td>\n",
       "      <td>0</td>\n",
       "      <td>0</td>\n",
       "      <td>0</td>\n",
       "      <td>1</td>\n",
       "    </tr>\n",
       "    <tr>\n",
       "      <th>10782</th>\n",
       "      <td>41369612134729</td>\n",
       "      <td>3</td>\n",
       "      <td>0.0</td>\n",
       "      <td>1.0</td>\n",
       "      <td>0.0</td>\n",
       "      <td>1</td>\n",
       "      <td>0</td>\n",
       "      <td>1</td>\n",
       "      <td>0</td>\n",
       "      <td>0</td>\n",
       "      <td>...</td>\n",
       "      <td>0</td>\n",
       "      <td>0</td>\n",
       "      <td>0</td>\n",
       "      <td>0</td>\n",
       "      <td>0</td>\n",
       "      <td>0</td>\n",
       "      <td>1</td>\n",
       "      <td>0</td>\n",
       "      <td>0</td>\n",
       "      <td>0</td>\n",
       "    </tr>\n",
       "    <tr>\n",
       "      <th>10781</th>\n",
       "      <td>41369612134729</td>\n",
       "      <td>4</td>\n",
       "      <td>0.0</td>\n",
       "      <td>1.0</td>\n",
       "      <td>0.0</td>\n",
       "      <td>1</td>\n",
       "      <td>1</td>\n",
       "      <td>1</td>\n",
       "      <td>0</td>\n",
       "      <td>0</td>\n",
       "      <td>...</td>\n",
       "      <td>0</td>\n",
       "      <td>0</td>\n",
       "      <td>0</td>\n",
       "      <td>0</td>\n",
       "      <td>0</td>\n",
       "      <td>0</td>\n",
       "      <td>1</td>\n",
       "      <td>0</td>\n",
       "      <td>0</td>\n",
       "      <td>0</td>\n",
       "    </tr>\n",
       "    <tr>\n",
       "      <th>10748</th>\n",
       "      <td>41369612134750</td>\n",
       "      <td>1</td>\n",
       "      <td>1.0</td>\n",
       "      <td>0.0</td>\n",
       "      <td>1.0</td>\n",
       "      <td>3</td>\n",
       "      <td>0</td>\n",
       "      <td>1</td>\n",
       "      <td>0</td>\n",
       "      <td>0</td>\n",
       "      <td>...</td>\n",
       "      <td>0</td>\n",
       "      <td>0</td>\n",
       "      <td>0</td>\n",
       "      <td>0</td>\n",
       "      <td>0</td>\n",
       "      <td>0</td>\n",
       "      <td>0</td>\n",
       "      <td>0</td>\n",
       "      <td>1</td>\n",
       "      <td>0</td>\n",
       "    </tr>\n",
       "  </tbody>\n",
       "</table>\n",
       "<p>5 rows × 45 columns</p>\n",
       "</div>"
      ],
      "text/plain": [
       "         plate_app_id  pitch_number  on_3b  on_2b  on_1b  score_diff  balls  \\\n",
       "10784  41369612134729             1    0.0    1.0    0.0           1      0   \n",
       "10783  41369612134729             2    0.0    1.0    0.0           1      0   \n",
       "10782  41369612134729             3    0.0    1.0    0.0           1      0   \n",
       "10781  41369612134729             4    0.0    1.0    0.0           1      1   \n",
       "10748  41369612134750             1    1.0    0.0    1.0           3      0   \n",
       "\n",
       "       outs_when_up  previous_zone_1.0  previous_zone_2.0  ...  inning_8  \\\n",
       "10784             1                  0                  0  ...         0   \n",
       "10783             1                  0                  0  ...         0   \n",
       "10782             1                  0                  0  ...         0   \n",
       "10781             1                  0                  0  ...         0   \n",
       "10748             1                  0                  0  ...         0   \n",
       "\n",
       "       inning_9  pitch_type_CH  pitch_type_CS  pitch_type_CU  pitch_type_FC  \\\n",
       "10784         0              0              0              0              0   \n",
       "10783         0              0              0              0              0   \n",
       "10782         0              0              0              0              0   \n",
       "10781         0              0              0              0              0   \n",
       "10748         0              0              0              0              0   \n",
       "\n",
       "       pitch_type_FF  pitch_type_IN  pitch_type_SI  pitch_type_SL  \n",
       "10784              1              0              0              0  \n",
       "10783              0              0              0              1  \n",
       "10782              1              0              0              0  \n",
       "10781              1              0              0              0  \n",
       "10748              0              0              1              0  \n",
       "\n",
       "[5 rows x 45 columns]"
      ]
     },
     "execution_count": 9,
     "metadata": {},
     "output_type": "execute_result"
    }
   ],
   "source": [
    "# Apply one-hot encoding to categorical columns\n",
    "selected_cols = pd.get_dummies(selected_cols, columns=['previous_zone', 'previous_pitch', 'inning', 'pitch_type'], dtype=int)\n",
    "selected_cols.head()"
   ]
  },
  {
   "cell_type": "code",
   "execution_count": 10,
   "metadata": {},
   "outputs": [],
   "source": [
    "selected_cols.to_csv(os.path.join(\"data\", 'clean', \"wade_miley.csv\"))"
   ]
  }
 ],
 "metadata": {
  "kernelspec": {
   "display_name": "base",
   "language": "python",
   "name": "python3"
  },
  "language_info": {
   "codemirror_mode": {
    "name": "ipython",
    "version": 3
   },
   "file_extension": ".py",
   "mimetype": "text/x-python",
   "name": "python",
   "nbconvert_exporter": "python",
   "pygments_lexer": "ipython3",
   "version": "3.11.7"
  }
 },
 "nbformat": 4,
 "nbformat_minor": 2
}
